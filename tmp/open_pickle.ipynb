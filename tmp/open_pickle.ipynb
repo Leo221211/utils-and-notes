{
 "cells": [
  {
   "cell_type": "code",
   "execution_count": 15,
   "metadata": {},
   "outputs": [],
   "source": [
    "import pickle\n",
    "import numpy as np"
   ]
  },
  {
   "cell_type": "code",
   "execution_count": null,
   "metadata": {},
   "outputs": [],
   "source": [
    "pkl_path = 'D:\\\\Leo\\\\technical\\\\github_public\\\\tmp\\\\double_mask_HCP.pkl'\n",
    "\n",
    "'''\n",
    "1d -> high quality voxel\n",
    "'''\n",
    "\n",
    "\n",
    "with open(pkl_path, 'rb') as f:\n",
    "    data = pickle.load(f)"
   ]
  },
  {
   "cell_type": "code",
   "execution_count": 7,
   "metadata": {},
   "outputs": [
    {
     "name": "stdout",
     "output_type": "stream",
     "text": [
      "8\n",
      "(107124,)\n",
      "27618\n"
     ]
    }
   ],
   "source": [
    "print(len(data))\n",
    "print(data[0].shape)\n",
    "print(sum(data[0]))"
   ]
  },
  {
   "cell_type": "code",
   "execution_count": 20,
   "metadata": {},
   "outputs": [],
   "source": [
    "pkl_path = 'D:\\\\Leo\\\\technical\\\\github_public\\\\tmp\\\\volume_to_functional.pkl'\n",
    "\n",
    "'''\n",
    "3d\n",
    "'''\n",
    "\n",
    "with open(pkl_path, 'rb') as f:\n",
    "    vol_fn_mask = pickle.load(f)"
   ]
  },
  {
   "cell_type": "code",
   "execution_count": 21,
   "metadata": {},
   "outputs": [
    {
     "name": "stdout",
     "output_type": "stream",
     "text": [
      "8\n",
      "(81, 104, 83)\n",
      "27618\n"
     ]
    }
   ],
   "source": [
    "print(len(vol_fn_mask))\n",
    "print(vol_fn_mask[0].shape)\n",
    "print(np.sum(vol_fn_mask[0]))"
   ]
  },
  {
   "cell_type": "code",
   "execution_count": 6,
   "metadata": {},
   "outputs": [
    {
     "name": "stdout",
     "output_type": "stream",
     "text": [
      "Collecting nibabel\n",
      "  Downloading nibabel-5.3.2-py3-none-any.whl.metadata (9.1 kB)\n",
      "Collecting importlib-resources>=5.12 (from nibabel)\n",
      "  Downloading importlib_resources-6.5.2-py3-none-any.whl.metadata (3.9 kB)\n",
      "Collecting numpy>=1.22 (from nibabel)\n",
      "  Downloading numpy-2.2.3-cp311-cp311-win_amd64.whl.metadata (60 kB)\n",
      "     ---------------------------------------- 0.0/60.8 kB ? eta -:--:--\n",
      "     ------ --------------------------------- 10.2/60.8 kB ? eta -:--:--\n",
      "     ------ --------------------------------- 10.2/60.8 kB ? eta -:--:--\n",
      "     ------------------- ------------------ 30.7/60.8 kB 187.9 kB/s eta 0:00:01\n",
      "     ------------------- ------------------ 30.7/60.8 kB 187.9 kB/s eta 0:00:01\n",
      "     ------------------------- ------------ 41.0/60.8 kB 164.3 kB/s eta 0:00:01\n",
      "     ------------------------- ------------ 41.0/60.8 kB 164.3 kB/s eta 0:00:01\n",
      "     -------------------------------------- 60.8/60.8 kB 180.1 kB/s eta 0:00:00\n",
      "Requirement already satisfied: packaging>=20 in c:\\users\\16567\\appdata\\local\\packages\\pythonsoftwarefoundation.python.3.11_qbz5n2kfra8p0\\localcache\\local-packages\\python311\\site-packages (from nibabel) (23.1)\n",
      "Collecting typing-extensions>=4.6 (from nibabel)\n",
      "  Downloading typing_extensions-4.12.2-py3-none-any.whl.metadata (3.0 kB)\n",
      "Downloading nibabel-5.3.2-py3-none-any.whl (3.3 MB)\n",
      "   ---------------------------------------- 0.0/3.3 MB ? eta -:--:--\n",
      "   ---------------------------------------- 0.0/3.3 MB 640.0 kB/s eta 0:00:06\n",
      "    --------------------------------------- 0.1/3.3 MB 656.4 kB/s eta 0:00:05\n",
      "   - -------------------------------------- 0.1/3.3 MB 655.4 kB/s eta 0:00:05\n",
      "   - -------------------------------------- 0.1/3.3 MB 655.4 kB/s eta 0:00:05\n",
      "   - -------------------------------------- 0.1/3.3 MB 514.3 kB/s eta 0:00:07\n",
      "   - -------------------------------------- 0.2/3.3 MB 538.9 kB/s eta 0:00:06\n",
      "   -- ------------------------------------- 0.2/3.3 MB 588.9 kB/s eta 0:00:06\n",
      "   -- ------------------------------------- 0.2/3.3 MB 625.1 kB/s eta 0:00:05\n",
      "   --- ------------------------------------ 0.3/3.3 MB 679.3 kB/s eta 0:00:05\n",
      "   ---- ----------------------------------- 0.4/3.3 MB 791.2 kB/s eta 0:00:04\n",
      "   ----- ---------------------------------- 0.4/3.3 MB 886.8 kB/s eta 0:00:04\n",
      "   ------ --------------------------------- 0.5/3.3 MB 936.0 kB/s eta 0:00:03\n",
      "   ------- -------------------------------- 0.6/3.3 MB 999.9 kB/s eta 0:00:03\n",
      "   -------- ------------------------------- 0.7/3.3 MB 1.1 MB/s eta 0:00:03\n",
      "   ---------- ----------------------------- 0.8/3.3 MB 1.2 MB/s eta 0:00:02\n",
      "   ------------ --------------------------- 1.0/3.3 MB 1.4 MB/s eta 0:00:02\n",
      "   -------------- ------------------------- 1.2/3.3 MB 1.6 MB/s eta 0:00:02\n",
      "   ----------------- ---------------------- 1.4/3.3 MB 1.7 MB/s eta 0:00:02\n",
      "   ------------------- -------------------- 1.6/3.3 MB 1.9 MB/s eta 0:00:01\n",
      "   ---------------------- ----------------- 1.8/3.3 MB 2.0 MB/s eta 0:00:01\n",
      "   ------------------------ --------------- 2.0/3.3 MB 2.1 MB/s eta 0:00:01\n",
      "   --------------------------- ------------ 2.2/3.3 MB 2.2 MB/s eta 0:00:01\n",
      "   ----------------------------- ---------- 2.4/3.3 MB 2.3 MB/s eta 0:00:01\n",
      "   -------------------------------- ------- 2.7/3.3 MB 2.5 MB/s eta 0:00:01\n",
      "   ----------------------------------- ---- 2.9/3.3 MB 2.6 MB/s eta 0:00:01\n",
      "   -------------------------------------- - 3.2/3.3 MB 2.7 MB/s eta 0:00:01\n",
      "   ---------------------------------------  3.3/3.3 MB 2.7 MB/s eta 0:00:01\n",
      "   ---------------------------------------- 3.3/3.3 MB 2.7 MB/s eta 0:00:00\n",
      "Downloading importlib_resources-6.5.2-py3-none-any.whl (37 kB)\n",
      "Downloading numpy-2.2.3-cp311-cp311-win_amd64.whl (12.9 MB)\n",
      "   ---------------------------------------- 0.0/12.9 MB ? eta -:--:--\n",
      "    --------------------------------------- 0.2/12.9 MB 3.5 MB/s eta 0:00:04\n",
      "   - -------------------------------------- 0.4/12.9 MB 3.8 MB/s eta 0:00:04\n",
      "   - -------------------------------------- 0.6/12.9 MB 4.6 MB/s eta 0:00:03\n",
      "   -- ------------------------------------- 0.8/12.9 MB 4.5 MB/s eta 0:00:03\n",
      "   --- ------------------------------------ 1.0/12.9 MB 4.5 MB/s eta 0:00:03\n",
      "   --- ------------------------------------ 1.2/12.9 MB 4.4 MB/s eta 0:00:03\n",
      "   ---- ----------------------------------- 1.4/12.9 MB 4.4 MB/s eta 0:00:03\n",
      "   ---- ----------------------------------- 1.6/12.9 MB 4.4 MB/s eta 0:00:03\n",
      "   ----- ---------------------------------- 1.8/12.9 MB 4.4 MB/s eta 0:00:03\n",
      "   ------ --------------------------------- 2.0/12.9 MB 4.4 MB/s eta 0:00:03\n",
      "   ------ --------------------------------- 2.2/12.9 MB 4.4 MB/s eta 0:00:03\n",
      "   ------- -------------------------------- 2.4/12.9 MB 4.4 MB/s eta 0:00:03\n",
      "   -------- ------------------------------- 2.6/12.9 MB 4.4 MB/s eta 0:00:03\n",
      "   -------- ------------------------------- 2.8/12.9 MB 4.4 MB/s eta 0:00:03\n",
      "   --------- ------------------------------ 3.0/12.9 MB 4.3 MB/s eta 0:00:03\n",
      "   --------- ------------------------------ 3.2/12.9 MB 4.4 MB/s eta 0:00:03\n",
      "   ---------- ----------------------------- 3.5/12.9 MB 4.4 MB/s eta 0:00:03\n",
      "   ----------- ---------------------------- 3.6/12.9 MB 4.4 MB/s eta 0:00:03\n",
      "   ----------- ---------------------------- 3.8/12.9 MB 4.3 MB/s eta 0:00:03\n",
      "   ------------ --------------------------- 4.0/12.9 MB 4.3 MB/s eta 0:00:03\n",
      "   ------------- -------------------------- 4.2/12.9 MB 4.4 MB/s eta 0:00:02\n",
      "   ------------- -------------------------- 4.5/12.9 MB 4.5 MB/s eta 0:00:02\n",
      "   -------------- ------------------------- 4.7/12.9 MB 4.5 MB/s eta 0:00:02\n",
      "   --------------- ------------------------ 4.9/12.9 MB 4.5 MB/s eta 0:00:02\n",
      "   --------------- ------------------------ 5.1/12.9 MB 4.5 MB/s eta 0:00:02\n",
      "   ---------------- ----------------------- 5.3/12.9 MB 4.5 MB/s eta 0:00:02\n",
      "   ---------------- ----------------------- 5.5/12.9 MB 4.4 MB/s eta 0:00:02\n",
      "   ----------------- ---------------------- 5.7/12.9 MB 4.4 MB/s eta 0:00:02\n",
      "   ------------------ --------------------- 5.9/12.9 MB 4.4 MB/s eta 0:00:02\n",
      "   ------------------ --------------------- 6.1/12.9 MB 4.4 MB/s eta 0:00:02\n",
      "   ------------------- -------------------- 6.3/12.9 MB 4.5 MB/s eta 0:00:02\n",
      "   -------------------- ------------------- 6.5/12.9 MB 4.4 MB/s eta 0:00:02\n",
      "   -------------------- ------------------- 6.7/12.9 MB 4.4 MB/s eta 0:00:02\n",
      "   --------------------- ------------------ 6.9/12.9 MB 4.4 MB/s eta 0:00:02\n",
      "   --------------------- ------------------ 7.0/12.9 MB 4.4 MB/s eta 0:00:02\n",
      "   --------------------- ------------------ 7.1/12.9 MB 4.3 MB/s eta 0:00:02\n",
      "   ---------------------- ----------------- 7.2/12.9 MB 4.3 MB/s eta 0:00:02\n",
      "   ---------------------- ----------------- 7.4/12.9 MB 4.3 MB/s eta 0:00:02\n",
      "   ----------------------- ---------------- 7.5/12.9 MB 4.2 MB/s eta 0:00:02\n",
      "   ----------------------- ---------------- 7.7/12.9 MB 4.2 MB/s eta 0:00:02\n",
      "   ------------------------ --------------- 7.8/12.9 MB 4.2 MB/s eta 0:00:02\n",
      "   ------------------------ --------------- 8.0/12.9 MB 4.2 MB/s eta 0:00:02\n",
      "   ------------------------- -------------- 8.2/12.9 MB 4.2 MB/s eta 0:00:02\n",
      "   ------------------------- -------------- 8.4/12.9 MB 4.2 MB/s eta 0:00:02\n",
      "   -------------------------- ------------- 8.6/12.9 MB 4.1 MB/s eta 0:00:02\n",
      "   --------------------------- ------------ 8.8/12.9 MB 4.1 MB/s eta 0:00:02\n",
      "   ---------------------------- ----------- 9.1/12.9 MB 4.2 MB/s eta 0:00:01\n",
      "   ---------------------------- ----------- 9.3/12.9 MB 4.2 MB/s eta 0:00:01\n",
      "   ----------------------------- ---------- 9.5/12.9 MB 4.2 MB/s eta 0:00:01\n",
      "   ------------------------------ --------- 9.7/12.9 MB 4.2 MB/s eta 0:00:01\n",
      "   ------------------------------ --------- 10.0/12.9 MB 4.3 MB/s eta 0:00:01\n",
      "   ------------------------------- -------- 10.3/12.9 MB 4.3 MB/s eta 0:00:01\n",
      "   -------------------------------- ------- 10.4/12.9 MB 4.3 MB/s eta 0:00:01\n",
      "   -------------------------------- ------- 10.6/12.9 MB 4.3 MB/s eta 0:00:01\n",
      "   --------------------------------- ------ 10.8/12.9 MB 4.3 MB/s eta 0:00:01\n",
      "   ---------------------------------- ----- 11.1/12.9 MB 4.3 MB/s eta 0:00:01\n",
      "   ----------------------------------- ---- 11.3/12.9 MB 4.3 MB/s eta 0:00:01\n",
      "   ----------------------------------- ---- 11.5/12.9 MB 4.3 MB/s eta 0:00:01\n",
      "   ------------------------------------ --- 11.6/12.9 MB 4.3 MB/s eta 0:00:01\n",
      "   ------------------------------------ --- 11.9/12.9 MB 4.3 MB/s eta 0:00:01\n",
      "   ------------------------------------- -- 12.1/12.9 MB 4.3 MB/s eta 0:00:01\n",
      "   -------------------------------------- - 12.3/12.9 MB 4.3 MB/s eta 0:00:01\n",
      "   -------------------------------------- - 12.4/12.9 MB 4.3 MB/s eta 0:00:01\n",
      "   -------------------------------------- - 12.6/12.9 MB 4.3 MB/s eta 0:00:01\n",
      "   ---------------------------------------  12.7/12.9 MB 4.3 MB/s eta 0:00:01\n",
      "   ---------------------------------------  12.9/12.9 MB 4.2 MB/s eta 0:00:01\n",
      "   ---------------------------------------  12.9/12.9 MB 4.2 MB/s eta 0:00:01\n",
      "   ---------------------------------------- 12.9/12.9 MB 4.1 MB/s eta 0:00:00\n",
      "Downloading typing_extensions-4.12.2-py3-none-any.whl (37 kB)\n",
      "Installing collected packages: typing-extensions, numpy, importlib-resources, nibabel\n",
      "Successfully installed importlib-resources-6.5.2 nibabel-5.3.2 numpy-2.2.3 typing-extensions-4.12.2\n"
     ]
    },
    {
     "name": "stderr",
     "output_type": "stream",
     "text": [
      "\n",
      "[notice] A new release of pip is available: 23.3.2 -> 25.0.1\n",
      "[notice] To update, run: C:\\Users\\16567\\AppData\\Local\\Microsoft\\WindowsApps\\PythonSoftwareFoundation.Python.3.11_qbz5n2kfra8p0\\python.exe -m pip install --upgrade pip\n"
     ]
    }
   ],
   "source": [
    "!pip install nibabel"
   ]
  },
  {
   "cell_type": "code",
   "execution_count": null,
   "metadata": {},
   "outputs": [],
   "source": [
    "import nibabel as nib"
   ]
  },
  {
   "cell_type": "code",
   "execution_count": 27,
   "metadata": {},
   "outputs": [],
   "source": [
    "path = 'D:\\\\Leo\\\\technical\\\\github_public\\\\tmp\\\\all_masks\\\\rois\\\\subj01\\\\prf-visualrois.nii.gz'\n",
    "\n",
    "def load_from_nii(nii_file):\n",
    "\n",
    "    return nib.load(nii_file).get_fdata()\n",
    "\n",
    "\n",
    "\n",
    "early_vis_mask = load_from_nii(path).astype(np.int32)[vol_fn_mask[0]] > 0.5\n",
    "# higher_vis_mask = load_from_nii(path).astype(np.int32)[vol_fn_mask[1]]\n",
    "higher_vis_mask = np.logical_not(early_vis_mask)"
   ]
  },
  {
   "cell_type": "code",
   "execution_count": 32,
   "metadata": {},
   "outputs": [
    {
     "name": "stdout",
     "output_type": "stream",
     "text": [
      "(27618,)\n",
      "bool\n",
      "[False  True]\n",
      "4657\n",
      "(27618,)\n",
      "22961\n",
      "bool\n"
     ]
    }
   ],
   "source": [
    "print(early_vis_mask.shape)\n",
    "print(early_vis_mask.dtype)\n",
    "print(np.unique(early_vis_mask))\n",
    "print(np.sum(early_vis_mask==1))\n",
    "print(higher_vis_mask.shape)\n",
    "print(np.sum(higher_vis_mask))\n",
    "print(higher_vis_mask.dtype)\n"
   ]
  },
  {
   "cell_type": "code",
   "execution_count": null,
   "metadata": {},
   "outputs": [],
   "source": []
  }
 ],
 "metadata": {
  "kernelspec": {
   "display_name": "Python 3",
   "language": "python",
   "name": "python3"
  },
  "language_info": {
   "codemirror_mode": {
    "name": "ipython",
    "version": 3
   },
   "file_extension": ".py",
   "mimetype": "text/x-python",
   "name": "python",
   "nbconvert_exporter": "python",
   "pygments_lexer": "ipython3",
   "version": "3.11.9"
  }
 },
 "nbformat": 4,
 "nbformat_minor": 2
}
