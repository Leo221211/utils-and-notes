{
 "cells": [
  {
   "cell_type": "markdown",
   "metadata": {},
   "source": [
    "# intro\n",
    "\n",
    "An HDF5 file is a container for two kinds of objects: datasets, which are array-like collections of data, and groups, which are folder-like containers that hold datasets and other groups. The most fundamental thing to remember when using h5py is:\n",
    "\n",
    "Groups work like dictionaries, and datasets work like NumPy arrays"
   ]
  },
  {
   "cell_type": "markdown",
   "metadata": {},
   "source": [
    "# basics"
   ]
  },
  {
   "cell_type": "code",
   "execution_count": null,
   "metadata": {},
   "outputs": [],
   "source": [
    "import h5py\n",
    "\n",
    "'''read'''\n",
    "f = h5py.File('mytestfile.hdf5', 'r')\n",
    "\n",
    "'''list the keys of the biggest dictionary'''\n",
    "list(f.keys())\n",
    "\n",
    "'''manipulate h5py dataset (which acts basically same to a numpy array)'''\n",
    "dset = f['mydataset']\n",
    "dset.shape\n",
    "dset.dtype\n",
    "dset[0:100:10]  "
   ]
  },
  {
   "cell_type": "markdown",
   "metadata": {},
   "source": [
    "# interact with pandas"
   ]
  },
  {
   "cell_type": "code",
   "execution_count": null,
   "metadata": {},
   "outputs": [],
   "source": [
    "'''pandas to hdf'''\n",
    "df = pd.DataFrame({'A': [1, 2, 3], 'B': [4, 5, 6]}, index=['a', 'b', 'c'])  \n",
    "df.to_hdf('data.h5', key='df', mode='w')\n",
    "\n",
    "'''hdf to pandas'''\n",
    "df = pd.read_hdf('data.h5', \"train_in_nucleo\")\n"
   ]
  },
  {
   "cell_type": "markdown",
   "metadata": {},
   "source": []
  }
 ],
 "metadata": {
  "kernelspec": {
   "display_name": "base",
   "language": "python",
   "name": "python3"
  },
  "language_info": {
   "name": "python",
   "version": "undefined.undefined.undefined"
  }
 },
 "nbformat": 4,
 "nbformat_minor": 2
}
