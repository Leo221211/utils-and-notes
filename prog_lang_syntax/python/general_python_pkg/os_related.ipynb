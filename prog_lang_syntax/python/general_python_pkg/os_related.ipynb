{
 "cells": [
  {
   "cell_type": "markdown",
   "metadata": {},
   "source": [
    "# 1. os package"
   ]
  },
  {
   "cell_type": "code",
   "execution_count": null,
   "metadata": {},
   "outputs": [],
   "source": [
    "'''\n",
    "1. os.walk\n",
    "    walk through a directory\n",
    "'''\n",
    "# eg from https://www.runoob.com/python/os-walk.html\n",
    "def walkFile(file):\n",
    "    for root, dirs, files in os.walk(file):\n",
    "\n",
    "        # root 表示当前正在访问的文件夹路径\n",
    "        # dirs 表示该文件夹下的子目录名list\n",
    "        # files 表示该文件夹下的文件list\n",
    "\n",
    "        # 遍历文件\n",
    "        for f in files:\n",
    "            print(os.path.join(root, f))\n",
    "\n",
    "        # 遍历所有的文件夹\n",
    "        for d in dirs:\n",
    "            print(os.path.join(root, d))"
   ]
  },
  {
   "cell_type": "markdown",
   "metadata": {},
   "source": [
    "# 2. Path package"
   ]
  },
  {
   "cell_type": "code",
   "execution_count": null,
   "metadata": {},
   "outputs": [],
   "source": [
    "'''\n",
    "1. absolute, relative path related\n",
    "'''\n",
    "Path(src_dir).resolve()      # resolves into absolute path\n",
    "Path(current_dir).relative_to(src_path)     # the path relative to a certain path\n",
    "\n",
    "\n",
    "'''\n",
    "2. make dir\n",
    "'''\n",
    "Path(src_dir).mkdir(parents=True, exist_ok=True)"
   ]
  }
 ],
 "metadata": {
  "language_info": {
   "name": "python"
  }
 },
 "nbformat": 4,
 "nbformat_minor": 2
}
