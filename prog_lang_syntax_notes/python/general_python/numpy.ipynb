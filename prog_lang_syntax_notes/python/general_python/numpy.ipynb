{
 "cells": [
  {
   "cell_type": "code",
   "execution_count": 31,
   "metadata": {},
   "outputs": [],
   "source": [
    "import numpy as np\n",
    "\n",
    "A =  np.array([[1, 2, 3], \n",
    "              [4, 5, 6], \n",
    "              [7, 8, 9]])\n",
    "\n",
    "array1 = np.array([[1, 2, 3],\n",
    "                   [4, 5, 6]])\n",
    "\n",
    "array2 = np.array([[7, 8, 9],\n",
    "                   [10, 11, 12]])"
   ]
  },
  {
   "cell_type": "markdown",
   "metadata": {},
   "source": [
    "# 2. Matrix operations"
   ]
  },
  {
   "cell_type": "code",
   "execution_count": 32,
   "metadata": {},
   "outputs": [
    {
     "name": "stdout",
     "output_type": "stream",
     "text": [
      "[[ 1  4  9]\n",
      " [16 25 36]\n",
      " [49 64 81]]\n"
     ]
    }
   ],
   "source": [
    "'''element-wise'''\n",
    "A_exp = A ** 2\n",
    "# print(A_exp)\n",
    "\n",
    "'''invert'''\n",
    "A_inv = np.linalg.inv(A)"
   ]
  },
  {
   "cell_type": "code",
   "execution_count": null,
   "metadata": {},
   "outputs": [],
   "source": []
  },
  {
   "cell_type": "markdown",
   "metadata": {},
   "source": [
    "# 3. Array structure / shape operations "
   ]
  },
  {
   "cell_type": "code",
   "execution_count": 8,
   "metadata": {},
   "outputs": [],
   "source": []
  },
  {
   "cell_type": "markdown",
   "metadata": {},
   "source": [
    "## concat"
   ]
  },
  {
   "cell_type": "code",
   "execution_count": 33,
   "metadata": {},
   "outputs": [
    {
     "name": "stdout",
     "output_type": "stream",
     "text": [
      "concat:\n",
      "result_vertical:\n",
      " [[ 1  2  3]\n",
      " [ 4  5  6]\n",
      " [ 7  8  9]\n",
      " [10 11 12]] \n",
      "\n",
      "result_horizontal:\n",
      " [[ 1  2  3  7  8  9]\n",
      " [ 4  5  6 10 11 12]] \n",
      "\n",
      "stack\n",
      "result_vstack:\n",
      " [[ 1  2  3]\n",
      " [ 4  5  6]\n",
      " [ 7  8  9]\n",
      " [10 11 12]] \n",
      "\n",
      "result_hstack:\n",
      " [[ 1  2  3  7  8  9]\n",
      " [ 4  5  6 10 11 12]] \n",
      "\n"
     ]
    }
   ],
   "source": [
    "\"\"\"concatenate\"\"\"\n",
    "'''\n",
    "can have multiple arrays in the tuple.\n",
    "only the dimension to concat can be diff\n",
    "'''\n",
    "print(\"concat:\")\n",
    "result_vertical = np.concatenate((array1, array2), axis=0)\n",
    "result_horizontal = np.concatenate((array1, array2), axis=1)\n",
    "\n",
    "print(\"result_vertical:\\n\", result_vertical, \"\\n\")\n",
    "print(\"result_horizontal:\\n\", result_horizontal, \"\\n\")\n",
    "\n",
    "\n",
    "\"\"\"stack\"\"\"\n",
    "'''vertically stack'''\n",
    "print(\"stack\")\n",
    "result_vstack = np.vstack((array1, array2))\n",
    "print(\"result_vstack:\\n\", result_vstack, \"\\n\")\n",
    "\n",
    "'''horizontally stack'''\n",
    "result_hstack = np.hstack((array1, array2))\n",
    "print(\"result_hstack:\\n\", result_hstack, \"\\n\")"
   ]
  },
  {
   "cell_type": "markdown",
   "metadata": {},
   "source": [
    "# Others"
   ]
  },
  {
   "cell_type": "code",
   "execution_count": 34,
   "metadata": {},
   "outputs": [
    {
     "name": "stdout",
     "output_type": "stream",
     "text": [
      "[1 2 3]\n",
      "[1 2 0]\n",
      "[1 2 3]\n"
     ]
    }
   ],
   "source": [
    "'''sort'''\n",
    "a = np.array([3, 1, 2])\n",
    "print(np.sort(a))\n",
    "print(np.argsort(a))\n",
    "print(a[np.argsort(a)])"
   ]
  },
  {
   "cell_type": "code",
   "execution_count": 35,
   "metadata": {},
   "outputs": [
    {
     "ename": "",
     "evalue": "",
     "output_type": "error",
     "traceback": [
      "\u001b[1;31mThe Kernel crashed while executing code in the current cell or a previous cell. \n",
      "\u001b[1;31mPlease review the code in the cell(s) to identify a possible cause of the failure. \n",
      "\u001b[1;31mClick <a href='https://aka.ms/vscodeJupyterKernelCrash'>here</a> for more info. \n",
      "\u001b[1;31mView Jupyter <a href='command:jupyter.viewOutput'>log</a> for further details."
     ]
    }
   ],
   "source": [
    "'''plot related'''\n",
    "xs = np.linspace(0, 10, 100)\n",
    "# print(xs)"
   ]
  },
  {
   "cell_type": "code",
   "execution_count": null,
   "metadata": {},
   "outputs": [],
   "source": []
  }
 ],
 "metadata": {
  "kernelspec": {
   "display_name": "Python 3",
   "language": "python",
   "name": "python3"
  },
  "language_info": {
   "codemirror_mode": {
    "name": "ipython",
    "version": 3
   },
   "file_extension": ".py",
   "mimetype": "text/x-python",
   "name": "python",
   "nbconvert_exporter": "python",
   "pygments_lexer": "ipython3",
   "version": "undefined.undefined.undefined"
  }
 },
 "nbformat": 4,
 "nbformat_minor": 2
}
