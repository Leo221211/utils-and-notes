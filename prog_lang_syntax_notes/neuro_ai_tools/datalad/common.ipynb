{
 "cells": [
  {
   "cell_type": "markdown",
   "metadata": {},
   "source": [
    "# datalad: can consider as a git for data\n",
    "\n",
    "link: https://naturalistic-data.org/content/Download_Data.html"
   ]
  },
  {
   "cell_type": "markdown",
   "metadata": {},
   "source": [
    "## install datalad package\n",
    "\n",
    "```\n",
    "# first install annex and datalad\n",
    "conda install conda-forge::git-annex\n",
    "pip install datalad\n",
    "\n",
    "# then finish git config\n",
    "git config --global user.email leoyu20220822@gmail.com\n",
    "git config --global user.name Leo221211\n",
    "\n",
    "```"
   ]
  },
  {
   "cell_type": "markdown",
   "metadata": {},
   "source": [
    "## install datasets\n",
    "\n",
    "### 1. linux commands\n",
    "\n",
    "installing (down really download locally, like cloning the repo):\n",
    "Installed is like a dir of files, only has the file name of the data, but not the file itself\n",
    "```\n",
    "datalad install https://gin.g-node.org/ljchang/Sherlock\n",
    "datalad install https://gin.g-node.org/ljchang/Paranoia\n",
    "```\n",
    "\n",
    "Check status\n",
    "```\n",
    "# go to the data dir\n",
    "datalad status --annex\n",
    "```\n",
    "\n",
    "Download file from a installed\n",
    "after get is the dir of that specific file's path (its a real path on machine)\n",
    "to install all can use `datalad get .`\n",
    "```\n",
    "datalad get fmriprep/sub-01/func/sub-01_task-sherlockPart1_desc-confounds_regressors.tsv\n",
    "```\n",
    "\n",
    "Delete on local computer (the meta info still retained):\n",
    "```datalad drop fmriprep/sub-01/func/sub-01_task-sherlockPart1_desc-confounds_regressors.tsv```\n",
    "\n",
    "### 2. python APIs\n",
    "\n",
    "```python\n",
    "import os\n",
    "import glob\n",
    "import datalad.api as dl\n",
    "import pandas as pd\n",
    "\n",
    "sherlock_path = '/Users/lukechang/Downloads/Sherlock'\n",
    "\n",
    "# clone\n",
    "dl.clone(source='https://gin.g-node.org/ljchang/Sherlock', path=sherlock_path)\n",
    "\n",
    "ds = dl.Dataset(sherlock_path)\n",
    "results = ds.status(annex='all')\n",
    "\n",
    "# download and read to dataframe\n",
    "result = ds.get(file_list[0])\n",
    "confounds = pd.read_csv(file_list[0], sep='\\t')\n",
    "\n",
    "ds.get(dataset='.', recursive=True)     # download all data\n",
    "\n",
    "# drop\n",
    "result = ds.drop(file_list[0])\n",
    "```"
   ]
  },
  {
   "cell_type": "markdown",
   "metadata": {},
   "source": []
  }
 ],
 "metadata": {
  "language_info": {
   "name": "python"
  }
 },
 "nbformat": 4,
 "nbformat_minor": 2
}
