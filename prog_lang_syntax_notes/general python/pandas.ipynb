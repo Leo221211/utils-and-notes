{
 "cells": [
  {
   "cell_type": "code",
   "execution_count": 1,
   "metadata": {},
   "outputs": [],
   "source": [
    "import pandas as pd"
   ]
  },
  {
   "cell_type": "markdown",
   "metadata": {},
   "source": [
    "# Panda series\n",
    "\n",
    "A Pandas Series is like a column in a table.  \n",
    "It is a one-dimensional array holding data of any type"
   ]
  },
  {
   "cell_type": "code",
   "execution_count": null,
   "metadata": {},
   "outputs": [],
   "source": [
    "\"\"\"normal series\"\"\"\n",
    "a = [1, 7, 2]\n",
    "myvar = pd.Series(a)\n",
    "print(myvar[0])\n",
    "\n",
    "'''\n",
    "0    1\n",
    "1    7\n",
    "2    2\n",
    "dtype: int64\n",
    "'''\n",
    "\n",
    "\"\"\"series with name\"\"\"\n",
    "myvar = pd.Series(a, index = [\"x\", \"y\", \"z\"])\n",
    "'''\n",
    "x    1\n",
    "y    7\n",
    "z    2\n",
    "dtype: int64\n",
    "'''\n",
    "print(myvar[\"y\"])\n",
    "\n",
    "'''or like this'''\n",
    "calories = {\"day1\": 420, \"day2\": 380, \"day3\": 390}\n",
    "myvar = pd.Series(calories)\n",
    "\n",
    "myvar = pd.Series(calories, index = [\"day1\", \"day2\"])\n"
   ]
  },
  {
   "cell_type": "markdown",
   "metadata": {},
   "source": [
    "# DataFrames\n",
    "\n",
    "Data sets in Pandas are usually multi-dimensional tables, called DataFrames.  \n",
    "Series is like a column, a DataFrame is the whole table."
   ]
  },
  {
   "cell_type": "code",
   "execution_count": null,
   "metadata": {},
   "outputs": [],
   "source": [
    "df = pd.read_csv('data.csv')\n",
    "df = pd.read_csv('your_file.tsv', sep='\\t')\n",
    "\n",
    "df = pd.read_json('data.json')\n",
    "\n",
    "'''input using code'''\n",
    "# dict: column name and corresponding numbers\n",
    "data = {\n",
    "  \"calories\": [420, 380, 390],\n",
    "  \"duration\": [50, 40, 45]\n",
    "}\n",
    "df = pd.DataFrame(data)\n",
    "'''\n",
    "     calories  duration\n",
    "  0       420        50\n",
    "  1       380        40\n",
    "  2       390        45\n",
    "'''\n",
    "\n",
    "'''w. index'''\n",
    "data = {\n",
    "\"Duration\":{\n",
    "    \"0\":60,\n",
    "    \"1\":60\n",
    "  },\n",
    "  \"Pulse\":{\n",
    "    \"0\":110,\n",
    "    \"1\":117\n",
    "  },\n",
    "  \"Maxpulse\":{\n",
    "    \"0\":130,\n",
    "    \"1\":145\n",
    "  },\n",
    "  \"Calories\":{\n",
    "    \"0\":409,\n",
    "    \"1\":479\n",
    "  }\n",
    "}\n",
    "\n",
    "df = pd.DataFrame(data)\n",
    "\n",
    "\n",
    "\"\"\"locate\"\"\"\n",
    "# row\n",
    "print(df.loc[0])\n",
    "print(df.loc[[0, 1]])       # list of rows, result is df  \n",
    "\n",
    "df = pd.DataFrame(data, index = [\"day1\", \"day2\", \"day3\"])\n",
    "print(df.loc[\"day2\"])\n",
    "\n",
    "\n"
   ]
  },
  {
   "cell_type": "markdown",
   "metadata": {},
   "source": [
    "# normal"
   ]
  },
  {
   "cell_type": "code",
   "execution_count": null,
   "metadata": {},
   "outputs": [],
   "source": [
    "'''print'''\n",
    "print(df)\n",
    "print(df.to_string())       # the whole text\n",
    "df.head(10), df.tail()\n",
    "\n",
    "'''store'''\n",
    "df.to_csv('output_file.tsv', sep='\\t', index=False, header=True)\n",
    "\n",
    "'''delete'''\n",
    "df.drop([0, 1])                 # rows\n",
    "df.drop(columns=['B', 'C'])     # col\n",
    "\n",
    "'''add col'''\n",
    "\"\"\"add 2 columns and store\"\"\"\n",
    "df[\"inter1_rnacentral_id\"] = \"not_done\"\n"
   ]
  }
 ],
 "metadata": {
  "kernelspec": {
   "display_name": "base",
   "language": "python",
   "name": "python3"
  },
  "language_info": {
   "codemirror_mode": {
    "name": "ipython",
    "version": 3
   },
   "file_extension": ".py",
   "mimetype": "text/x-python",
   "name": "python",
   "nbconvert_exporter": "python",
   "pygments_lexer": "ipython3",
   "version": "undefined.undefined.undefined"
  }
 },
 "nbformat": 4,
 "nbformat_minor": 2
}
