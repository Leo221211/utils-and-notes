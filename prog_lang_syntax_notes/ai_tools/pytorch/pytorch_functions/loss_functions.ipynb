{
 "cells": [
  {
   "cell_type": "code",
   "execution_count": 1,
   "metadata": {},
   "outputs": [],
   "source": [
    "import torch"
   ]
  },
  {
   "cell_type": "markdown",
   "metadata": {},
   "source": [
    "# General"
   ]
  },
  {
   "cell_type": "markdown",
   "metadata": {},
   "source": [
    "binary cross entropy\n",
    "\n",
    "1. pos weight can be understood as how much times more important is pos sample than positive sample \\\n",
    "   pos_weight can have the same dimension with the target (and also the preds), but if the pos weight are the same can only use 1 number in tensor\n",
    "1. With logits: the pred first applied sigmoid then do the else. Without logits, directly do\n",
    "1. Below shows the 2 ways of using this loss (either first define it from a class or directly use the function)"
   ]
  },
  {
   "cell_type": "code",
   "execution_count": 19,
   "metadata": {},
   "outputs": [
    {
     "name": "stdout",
     "output_type": "stream",
     "text": [
      "torch.Size([3])\n",
      "torch.Size([3])\n",
      "tensor(18.7114)\n",
      "tensor(18.7114)\n"
     ]
    }
   ],
   "source": [
    "pos_weight_ratio = 87.5\n",
    "\n",
    "output = torch.tensor([1,1,1])\n",
    "target = torch.tensor([0,1,1])      # shape is [3]\n",
    "print(target.shape)\n",
    "\n",
    "pos_weight = torch.full((3,), pos_weight_ratio)\n",
    "# pos_weight = torch.tensor([pos_weight_ratio])\n",
    "print(pos_weight.shape)\n",
    "\n",
    "'''way 1 of using'''\n",
    "loss = torch.nn.functional.binary_cross_entropy_with_logits(output.float(), target.float(), pos_weight=pos_weight)\n",
    "# loss = torch.nn.functional.binary_cross_entropy(output.float(), target.float, pos_weight)\n",
    "print(loss)\n",
    "\n",
    "'''way 2 of using'''\n",
    "criterion = torch.nn.BCEWithLogitsLoss(pos_weight=pos_weight)\n",
    "# or torch.nn.BCELoss to avoid sigmoid\n",
    "loss = criterion(output.float(), target.float())\n",
    "print(loss)"
   ]
  },
  {
   "cell_type": "code",
   "execution_count": null,
   "metadata": {},
   "outputs": [],
   "source": []
  }
 ],
 "metadata": {
  "kernelspec": {
   "display_name": "rnafm",
   "language": "python",
   "name": "python3"
  },
  "language_info": {
   "codemirror_mode": {
    "name": "ipython",
    "version": 3
   },
   "file_extension": ".py",
   "mimetype": "text/x-python",
   "name": "python",
   "nbconvert_exporter": "python",
   "pygments_lexer": "ipython3",
   "version": "3.12.5"
  }
 },
 "nbformat": 4,
 "nbformat_minor": 2
}
