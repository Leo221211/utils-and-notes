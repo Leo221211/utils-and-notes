{
 "cells": [
  {
   "cell_type": "markdown",
   "metadata": {},
   "source": [
    "Principals: my understanding \n",
    "\n",
    "1. When doing computation, all the data included in the computation must be in the same device\n",
    "1. All the data that are initialized using xxx = torch.xx.x are initially on cpu (if the torch is install on CPU (?)). If need to move to some other devices, then need to use to(device)\n",
    "1. What really to device is the data. model.to(device) is actally moving the parameters to device. So for some initializations like creterion, if they don't have parameter data, they can omit the to.device (adding to.device is not wrong though). For the code (instructions, they are not device dependent and no matter cpu or gpu they use instructions on the same place (?))"
   ]
  },
  {
   "cell_type": "markdown",
   "metadata": {},
   "source": [
    "Notes\n",
    "\n",
    "1. to(device): the return value is copied to a device but not itself is moved to another device"
   ]
  }
 ],
 "metadata": {
  "language_info": {
   "name": "python"
  }
 },
 "nbformat": 4,
 "nbformat_minor": 2
}
