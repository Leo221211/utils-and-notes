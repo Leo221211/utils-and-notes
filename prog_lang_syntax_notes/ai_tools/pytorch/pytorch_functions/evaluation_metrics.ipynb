{
 "cells": [
  {
   "cell_type": "markdown",
   "metadata": {},
   "source": [
    "# General way of using metrics in pytorch"
   ]
  },
  {
   "cell_type": "code",
   "execution_count": 6,
   "metadata": {},
   "outputs": [
    {
     "name": "stdout",
     "output_type": "stream",
     "text": [
      "tensor(0.8333)\n"
     ]
    }
   ],
   "source": [
    "import torch\n",
    "from torchmetrics.classification import BinaryAUROC, BinaryAveragePrecision\n",
    "\n",
    "output = torch.tensor([0, 1, 1, 0])\n",
    "target = torch.tensor([0, 1, 1, 1])\n",
    "\n",
    "'''define'''\n",
    "val_auroc_metric = BinaryAUROC()\n",
    "\n",
    "'''update: add value into the metric, if want to add in with existing values, can also use this'''\n",
    "val_auroc_metric.update(output, target)\n",
    "\n",
    "'''compute the auroc'''\n",
    "auroc = val_auroc_metric.compute()\n",
    "print(auroc)\n",
    "\n",
    "'''reset, clear all stored values'''\n",
    "val_auroc_metric.reset()"
   ]
  },
  {
   "cell_type": "markdown",
   "metadata": {},
   "source": [
    "# common metrics "
   ]
  },
  {
   "cell_type": "code",
   "execution_count": null,
   "metadata": {},
   "outputs": [],
   "source": [
    "'''auroc'''\n",
    "from torchmetrics.classification import BinaryAUROC\n",
    "val_auroc_metric = BinaryAUROC()\n",
    "\n",
    "'''auprc'''\n",
    "from torchmetrics.classification import BinaryAveragePrecision\n",
    "val_auprc_metric = BinaryAveragePrecision()"
   ]
  }
 ],
 "metadata": {
  "kernelspec": {
   "display_name": "rnafm",
   "language": "python",
   "name": "python3"
  },
  "language_info": {
   "codemirror_mode": {
    "name": "ipython",
    "version": 3
   },
   "file_extension": ".py",
   "mimetype": "text/x-python",
   "name": "python",
   "nbconvert_exporter": "python",
   "pygments_lexer": "ipython3",
   "version": "3.12.5"
  }
 },
 "nbformat": 4,
 "nbformat_minor": 2
}
